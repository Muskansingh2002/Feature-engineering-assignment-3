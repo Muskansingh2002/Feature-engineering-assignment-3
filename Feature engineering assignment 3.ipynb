{
 "cells": [
  {
   "cell_type": "markdown",
   "id": "db033674-bfe4-4da7-820d-ca6e94721865",
   "metadata": {},
   "source": [
    "Q1. What is data encoding? How is it useful in data science?"
   ]
  },
  {
   "cell_type": "markdown",
   "id": "26a3b09d-7dff-421a-a3ec-e269b084b402",
   "metadata": {},
   "source": [
    "Ans:\n",
    "\n",
    "What is Data Encoding?\n",
    "\n",
    "Data encoding refers to the process of converting data from one form to another. This transformation is typically performed to make data suitable for a specific application, such as storage, transmission, or processing. Encoding can be applied to various types of data, including text, images, audio, and more. In the context of data science, encoding often involves converting categorical data into a numerical format that can be easily understood and processed by machine learning algorithms."
   ]
  },
  {
   "cell_type": "code",
   "execution_count": null,
   "id": "1991cfd2-d8b0-4d85-8bc0-d928404718da",
   "metadata": {},
   "outputs": [],
   "source": []
  },
  {
   "cell_type": "markdown",
   "id": "51ebc612-56c0-40dd-b1ad-a32e9d242349",
   "metadata": {},
   "source": [
    "Q2. What is nominal encoding? Provide an example of how you would use it in a real-world scenario."
   ]
  },
  {
   "cell_type": "markdown",
   "id": "2059f490-8869-4e52-a57e-6dbd40acdd31",
   "metadata": {},
   "source": [
    "Ans:\n",
    "    \n",
    "What is Nominal Encoding?\n",
    "\n",
    "Nominal encoding, also known as categorical encoding, is the process of converting categorical variables (nominal variables) into a numerical format. Nominal variables are those that have two or more categories but do not have any inherent order or ranking among them. Examples include colors, names, or types of objects."
   ]
  },
  {
   "cell_type": "code",
   "execution_count": 3,
   "id": "206c155a-534f-4dcc-97ed-f91e2c70752e",
   "metadata": {},
   "outputs": [
    {
     "data": {
      "text/html": [
       "<div>\n",
       "<style scoped>\n",
       "    .dataframe tbody tr th:only-of-type {\n",
       "        vertical-align: middle;\n",
       "    }\n",
       "\n",
       "    .dataframe tbody tr th {\n",
       "        vertical-align: top;\n",
       "    }\n",
       "\n",
       "    .dataframe thead th {\n",
       "        text-align: right;\n",
       "    }\n",
       "</style>\n",
       "<table border=\"1\" class=\"dataframe\">\n",
       "  <thead>\n",
       "    <tr style=\"text-align: right;\">\n",
       "      <th></th>\n",
       "      <th>CustomerID</th>\n",
       "      <th>CustomerServiceType</th>\n",
       "      <th>MonthlyCharges</th>\n",
       "      <th>Churn</th>\n",
       "    </tr>\n",
       "  </thead>\n",
       "  <tbody>\n",
       "    <tr>\n",
       "      <th>0</th>\n",
       "      <td>1</td>\n",
       "      <td>Basic</td>\n",
       "      <td>29.85</td>\n",
       "      <td>No</td>\n",
       "    </tr>\n",
       "    <tr>\n",
       "      <th>1</th>\n",
       "      <td>2</td>\n",
       "      <td>Premium</td>\n",
       "      <td>56.95</td>\n",
       "      <td>Yes</td>\n",
       "    </tr>\n",
       "    <tr>\n",
       "      <th>2</th>\n",
       "      <td>3</td>\n",
       "      <td>Basic</td>\n",
       "      <td>53.85</td>\n",
       "      <td>No</td>\n",
       "    </tr>\n",
       "    <tr>\n",
       "      <th>3</th>\n",
       "      <td>4</td>\n",
       "      <td>Enterprise</td>\n",
       "      <td>42.30</td>\n",
       "      <td>Yes</td>\n",
       "    </tr>\n",
       "  </tbody>\n",
       "</table>\n",
       "</div>"
      ],
      "text/plain": [
       "   CustomerID CustomerServiceType  MonthlyCharges Churn\n",
       "0           1               Basic           29.85    No\n",
       "1           2             Premium           56.95   Yes\n",
       "2           3               Basic           53.85    No\n",
       "3           4          Enterprise           42.30   Yes"
      ]
     },
     "execution_count": 3,
     "metadata": {},
     "output_type": "execute_result"
    }
   ],
   "source": [
    "import pandas as pd\n",
    "\n",
    "# Sample data\n",
    "data = {\n",
    "    'CustomerID': [1, 2, 3, 4],\n",
    "    'CustomerServiceType': ['Basic', 'Premium', 'Basic', 'Enterprise'],\n",
    "    'MonthlyCharges': [29.85, 56.95, 53.85, 42.30],\n",
    "    'Churn': ['No', 'Yes', 'No', 'Yes']\n",
    "}\n",
    "\n",
    "df = pd.DataFrame(data)\n",
    "df"
   ]
  },
  {
   "cell_type": "code",
   "execution_count": 4,
   "id": "379521ab-1ece-4f22-863a-ffb27d893c65",
   "metadata": {},
   "outputs": [
    {
     "name": "stdout",
     "output_type": "stream",
     "text": [
      "   CustomerID  MonthlyCharges Churn  CustomerServiceType_Basic  \\\n",
      "0           1           29.85    No                          1   \n",
      "1           2           56.95   Yes                          0   \n",
      "2           3           53.85    No                          1   \n",
      "3           4           42.30   Yes                          0   \n",
      "\n",
      "   CustomerServiceType_Enterprise  CustomerServiceType_Premium  \n",
      "0                               0                            0  \n",
      "1                               0                            1  \n",
      "2                               0                            0  \n",
      "3                               1                            0  \n"
     ]
    }
   ],
   "source": [
    "# One-Hot Encoding\n",
    "df_encoded = pd.get_dummies(df, columns=['CustomerServiceType'])\n",
    "\n",
    "# Display the encoded DataFrame\n",
    "print(df_encoded)\n"
   ]
  },
  {
   "cell_type": "code",
   "execution_count": 6,
   "id": "ffa511b6-9e7c-43e4-8a1b-f845d02cd95c",
   "metadata": {},
   "outputs": [
    {
     "name": "stdout",
     "output_type": "stream",
     "text": [
      "Accuracy: 0.00\n"
     ]
    }
   ],
   "source": [
    "from sklearn.model_selection import train_test_split\n",
    "from sklearn.ensemble import RandomForestClassifier\n",
    "\n",
    "# Prepare features and target variable\n",
    "X = df_encoded.drop(columns=['CustomerID', 'Churn'])\n",
    "y = df_encoded['Churn'].apply(lambda x: 1 if x == 'Yes' else 0)\n",
    "\n",
    "# Split data into training and testing sets\n",
    "X_train, X_test, y_train, y_test = train_test_split(X, y, test_size=0.2, random_state=42)\n",
    "\n",
    "# Train a Random Forest Classifier\n",
    "clf = RandomForestClassifier(n_estimators=100, random_state=42)\n",
    "clf.fit(X_train, y_train)\n",
    "\n",
    "# Evaluate the model\n",
    "accuracy = clf.score(X_test, y_test)\n",
    "print(f'Accuracy: {accuracy:.2f}')\n"
   ]
  },
  {
   "cell_type": "code",
   "execution_count": null,
   "id": "acff4700-d0ad-4817-9b83-4370230cad01",
   "metadata": {},
   "outputs": [],
   "source": []
  },
  {
   "cell_type": "code",
   "execution_count": null,
   "id": "364e326a-4dd4-483c-9a7c-8d93d9f55418",
   "metadata": {},
   "outputs": [],
   "source": []
  },
  {
   "cell_type": "markdown",
   "id": "9b785249-c4a2-4c51-9bfc-0985a9530765",
   "metadata": {},
   "source": [
    "Q3. In what situations is nominal encoding preferred over one-hot encoding? Provide a practical example."
   ]
  },
  {
   "cell_type": "markdown",
   "id": "22490376-6c94-40ee-9f66-dff239550316",
   "metadata": {},
   "source": [
    "Ans:\n",
    "    \n",
    "Nominal encoding, such as label encoding or other encoding techniques like binary or frequency encoding, is preferred over one-hot encoding in situations where the following conditions apply:\n",
    "\n",
    "1. High Cardinality: When a categorical feature has a large number of unique categories, one-hot encoding can lead to a significant increase in the number of features, causing high memory usage and computational inefficiency.\n",
    "\n",
    "2. Limited Ordinality Assumptions: When there is a need to retain some implicit information about the categories that might be relevant for the model, even though the data is nominal.\n",
    "\n",
    "3. Model Compatibility: Some machine learning algorithms can handle encoded categorical variables more efficiently without one-hot encoding. For example, tree-based models like decision trees and random forests can work well with label-encoded data."
   ]
  },
  {
   "cell_type": "code",
   "execution_count": 7,
   "id": "9b86e022-2909-4266-9eb5-5c0032e87c3f",
   "metadata": {},
   "outputs": [],
   "source": [
    "import pandas as pd\n",
    "\n",
    "# Sample data\n",
    "data = {\n",
    "    'UserID': [1, 2, 3, 4, 5],\n",
    "    'ProductCategory': ['Electronics', 'Books', 'Clothing', 'Books', 'Electronics'],\n",
    "    'PurchaseAmount': [250, 30, 100, 25, 300]\n",
    "}\n",
    "\n",
    "df = pd.DataFrame(data)\n"
   ]
  },
  {
   "cell_type": "code",
   "execution_count": 8,
   "id": "6b154498-7420-4d89-bad0-a761d642f1d6",
   "metadata": {},
   "outputs": [
    {
     "name": "stdout",
     "output_type": "stream",
     "text": [
      "   UserID ProductCategory  PurchaseAmount  ProductCategoryFrequency\n",
      "0       1     Electronics             250                       0.4\n",
      "1       2           Books              30                       0.4\n",
      "2       3        Clothing             100                       0.2\n",
      "3       4           Books              25                       0.4\n",
      "4       5     Electronics             300                       0.4\n"
     ]
    }
   ],
   "source": [
    "# Calculate the frequency of each category\n",
    "category_frequencies = df['ProductCategory'].value_counts() / len(df)\n",
    "df['ProductCategoryFrequency'] = df['ProductCategory'].map(category_frequencies)\n",
    "\n",
    "# Display the encoded DataFrame\n",
    "print(df)\n"
   ]
  },
  {
   "cell_type": "code",
   "execution_count": 11,
   "id": "563358de-547b-4452-9ace-f4fdad51caf7",
   "metadata": {},
   "outputs": [
    {
     "name": "stdout",
     "output_type": "stream",
     "text": [
      "R^2 Score: nan\n"
     ]
    },
    {
     "name": "stderr",
     "output_type": "stream",
     "text": [
      "/opt/conda/lib/python3.10/site-packages/sklearn/metrics/_regression.py:918: UndefinedMetricWarning: R^2 score is not well-defined with less than two samples.\n",
      "  warnings.warn(msg, UndefinedMetricWarning)\n"
     ]
    }
   ],
   "source": [
    "from sklearn.model_selection import train_test_split\n",
    "from sklearn.ensemble import RandomForestRegressor\n",
    "\n",
    "# Prepare features and target variable\n",
    "X = df[['ProductCategoryFrequency', 'PurchaseAmount']]\n",
    "y = df['PurchaseAmount']\n",
    "\n",
    "# Split data into training and testing sets\n",
    "X_train, X_test, y_train, y_test = train_test_split(X, y, test_size=0.2, random_state=42)\n",
    "\n",
    "# Train a Random Forest Regressor\n",
    "model = RandomForestRegressor(n_estimators=100, random_state=42)\n",
    "model.fit(X_train, y_train)\n",
    "\n",
    "# Evaluate the model\n",
    "r2_score = model.score(X_test, y_test)\n",
    "print(f'R^2 Score: {r2_score:.2f}')\n"
   ]
  },
  {
   "cell_type": "code",
   "execution_count": null,
   "id": "f853295d-c3c3-46b4-b9a0-0de2bc783f18",
   "metadata": {},
   "outputs": [],
   "source": []
  },
  {
   "cell_type": "markdown",
   "id": "e0396829-1d8d-4963-8dab-304b464422cd",
   "metadata": {},
   "source": [
    "Q4. Suppose you have a dataset containing categorical data with 5 unique values. Which encoding\n",
    "technique would you use to transform this data into a format suitable for machine learning algorithms?\n",
    "Explain why you made this choice."
   ]
  },
  {
   "cell_type": "markdown",
   "id": "9106ce69-260a-4358-914e-b8dd8a7b2c30",
   "metadata": {},
   "source": [
    "Ans:\n",
    "    \n",
    "For a dataset containing categorical data with 5 unique values, one-hot encoding is generally the most suitable encoding technique. Here’s why:\n",
    "\n",
    "One-Hot Encoding:\n",
    "\n",
    "Why Choose One-Hot Encoding?\n",
    "\n",
    "1. Small Number of Categories: With only 5 unique values, one-hot encoding will not create a prohibitively large number of additional features. It will create 5 new binary features, one for each category, which is manageable for most machine learning algorithms.\n",
    "\n",
    "2. Avoiding Implicit Ordinality: One-hot encoding ensures that no ordinal relationship is implied among the categories. This is crucial for categorical data where the categories do not have any inherent order. Label encoding, on the other hand, could imply an order that doesn't exist, potentially misleading some algorithms.\n",
    "\n",
    "3. Compatibility with Most Algorithms: One-hot encoding is widely supported and works well with most machine learning algorithms, including linear models, neural networks, and tree-based methods."
   ]
  },
  {
   "cell_type": "code",
   "execution_count": null,
   "id": "71d24512-e006-4f70-8a1a-bffb1ae54c6e",
   "metadata": {},
   "outputs": [],
   "source": []
  },
  {
   "cell_type": "markdown",
   "id": "da136352-869f-42b8-8692-c3a208a791ec",
   "metadata": {},
   "source": [
    "Q5. In a machine learning project, you have a dataset with 1000 rows and 5 columns. Two of the columns\n",
    "are categorical, and the remaining three columns are numerical. If you were to use nominal encoding to\n",
    "transform the categorical data, how many new columns would be created? Show your calculations."
   ]
  },
  {
   "cell_type": "markdown",
   "id": "cc8b9947-acf3-4eee-89cf-0f804cc87378",
   "metadata": {},
   "source": [
    "Ans:\n",
    "    \n",
    "To determine the number of new columns that would be created by using nominal encoding (specifically one-hot encoding) on the two categorical columns, you need to know the number of unique values (categories) in each of the categorical columns.\n",
    "Let's assume the following:\n",
    "\n",
    "Column A has a unique categories.\n",
    "\n",
    "Column B has b unique categories.\n",
    "\n",
    "Calculations\n",
    "\n",
    "Using one-hot encoding:\n",
    "\n",
    "Column A: If Column A has a unique categories, one-hot encoding will create a new columns.\n",
    "\n",
    "Column B: If Column B has b unique categories, one-hot encoding will create b new columns.\n",
    "\n",
    "Total Number of Columns After Encoding\n",
    "\n",
    "The original dataset has 5 columns. After applying one-hot encoding:\n",
    "\n",
    "You will replace Column A with a new columns.\n",
    "\n",
    "You will replace Column B with b new columns.\n",
    "\n",
    "Thus, the total number of columns will be:\n",
    "\n",
    "Total Columns=3+a+b\n",
    "\n",
    "Here, 3 is the number of original numerical columns that remain unchanged.\n",
    "\n",
    "Example Calculation\n",
    "Let's say:\n",
    "\n",
    "Column A has 4 unique categories.\n",
    "\n",
    "Column B has 3 unique categories.\n",
    "\n",
    "Applying the formula:\n",
    "\n",
    "\n",
    "Total Columns=3+4+3=10\n",
    "\n",
    "So, after one-hot encoding the two categorical columns, you will have 10 columns in total.\n",
    "\n",
    "General Case\n",
    "\n",
    "Without specific values for a and b, the general formula for the total number of columns after one-hot encoding two categorical columns in a dataset with 3 numerical columns is:\n",
    "\n",
    "Total Columns=3+a+b\n",
    "\n",
    "Where:\n",
    "\n",
    "a is the number of unique categories in the first categorical column.b is the number of unique categories in the second categorical column.\n",
    "\n",
    "This formula will help you calculate the total number of columns created after nominal encoding for any given number of unique categories in the two categorical columns.\n",
    "\n",
    "\n",
    "\n",
    "\n",
    "\n",
    "\n",
    "\n"
   ]
  },
  {
   "cell_type": "code",
   "execution_count": null,
   "id": "732c9d2a-3f54-4620-a7ed-6eedf0a12282",
   "metadata": {},
   "outputs": [],
   "source": []
  },
  {
   "cell_type": "markdown",
   "id": "48c2f2a3-e32c-4171-a8dd-58c24d060166",
   "metadata": {},
   "source": [
    "Q6. You are working with a dataset containing information about different types of animals, including their\n",
    "species, habitat, and diet. Which encoding technique would you use to transform the categorical data into\n",
    "a format suitable for machine learning algorithms? Justify your answer."
   ]
  },
  {
   "cell_type": "code",
   "execution_count": 12,
   "id": "2c4ca0ba-a9a3-4388-8391-a35d365cecb5",
   "metadata": {},
   "outputs": [],
   "source": [
    "import pandas as pd\n",
    "\n",
    "# Sample data\n",
    "data = {\n",
    "    'AnimalID': [1, 2, 3, 4, 5],\n",
    "    'Species': ['Lion', 'Tiger', 'Elephant', 'Tiger', 'Lion'],\n",
    "    'Habitat': ['Savannah', 'Forest', 'Savannah', 'Forest', 'Savannah'],\n",
    "    'Diet': ['Carnivore', 'Carnivore', 'Herbivore', 'Carnivore', 'Carnivore']\n",
    "}\n",
    "\n",
    "df = pd.DataFrame(data)\n"
   ]
  },
  {
   "cell_type": "code",
   "execution_count": 13,
   "id": "73318e35-37df-4e35-8172-6ebc17ddec70",
   "metadata": {},
   "outputs": [
    {
     "name": "stdout",
     "output_type": "stream",
     "text": [
      "   AnimalID  Species_Elephant  Species_Lion  Species_Tiger  Habitat_Forest  \\\n",
      "0         1                 0             1              0               0   \n",
      "1         2                 0             0              1               1   \n",
      "2         3                 1             0              0               0   \n",
      "3         4                 0             0              1               1   \n",
      "4         5                 0             1              0               0   \n",
      "\n",
      "   Habitat_Savannah  Diet_Carnivore  Diet_Herbivore  \n",
      "0                 1               1               0  \n",
      "1                 0               1               0  \n",
      "2                 1               0               1  \n",
      "3                 0               1               0  \n",
      "4                 1               1               0  \n"
     ]
    }
   ],
   "source": [
    "# One-Hot Encoding\n",
    "df_encoded = pd.get_dummies(df, columns=['Species', 'Habitat', 'Diet'])\n",
    "\n",
    "# Display the encoded DataFrame\n",
    "print(df_encoded)\n"
   ]
  },
  {
   "cell_type": "code",
   "execution_count": 14,
   "id": "43084c88-4a4b-4956-ae0b-733c2899bbfc",
   "metadata": {},
   "outputs": [
    {
     "name": "stdout",
     "output_type": "stream",
     "text": [
      "   AnimalID  Species_Freq  Habitat_Freq  Diet_Freq\n",
      "0         1           0.4           0.6        0.8\n",
      "1         2           0.4           0.4        0.8\n",
      "2         3           0.2           0.6        0.2\n",
      "3         4           0.4           0.4        0.8\n",
      "4         5           0.4           0.6        0.8\n"
     ]
    }
   ],
   "source": [
    "# Frequency Encoding\n",
    "for column in ['Species', 'Habitat', 'Diet']:\n",
    "    freq_encoding = df[column].value_counts() / len(df)\n",
    "    df[column + '_Freq'] = df[column].map(freq_encoding)\n",
    "\n",
    "# Drop original categorical columns\n",
    "df.drop(columns=['Species', 'Habitat', 'Diet'], inplace=True)\n",
    "\n",
    "# Display the encoded DataFrame\n",
    "print(df)\n"
   ]
  },
  {
   "cell_type": "markdown",
   "id": "58bd546e-3a6d-485e-b9fe-ee6ca268940c",
   "metadata": {},
   "source": [
    "For a dataset containing information about different types of animals with categorical features like species, habitat, and diet:\n",
    "\n",
    "Use one-hot encoding if the number of unique categories is small.\n",
    "\n",
    "Use frequency encoding or binary encoding if the number of unique categories is large to handle high cardinality efficiently.\n",
    "\n",
    "This approach ensures that the categorical data is transformed into a format suitable for machine learning algorithms without implying any unintended relationships among the categories.\n",
    "\n",
    "\n",
    "\n",
    "\n",
    "\n"
   ]
  },
  {
   "cell_type": "code",
   "execution_count": null,
   "id": "75b2c739-05f0-4fcc-a677-6313c01a8df2",
   "metadata": {},
   "outputs": [],
   "source": []
  },
  {
   "cell_type": "markdown",
   "id": "584d52bc-ba20-4895-8c78-b0ef6ca42131",
   "metadata": {},
   "source": [
    "Q7.You are working on a project that involves predicting customer churn for a telecommunications\n",
    "company. You have a dataset with 5 features, including the customer's gender, age, contract type,\n",
    "monthly charges, and tenure. Which encoding technique(s) would you use to transform the categorical\n",
    "data into numerical data? Provide a step-by-step explanation of how you would implement the encoding."
   ]
  },
  {
   "cell_type": "code",
   "execution_count": 17,
   "id": "605188dd-0f19-46e2-ba6e-3559d029f652",
   "metadata": {},
   "outputs": [
    {
     "data": {
      "text/html": [
       "<div>\n",
       "<style scoped>\n",
       "    .dataframe tbody tr th:only-of-type {\n",
       "        vertical-align: middle;\n",
       "    }\n",
       "\n",
       "    .dataframe tbody tr th {\n",
       "        vertical-align: top;\n",
       "    }\n",
       "\n",
       "    .dataframe thead th {\n",
       "        text-align: right;\n",
       "    }\n",
       "</style>\n",
       "<table border=\"1\" class=\"dataframe\">\n",
       "  <thead>\n",
       "    <tr style=\"text-align: right;\">\n",
       "      <th></th>\n",
       "      <th>Gender</th>\n",
       "      <th>Age</th>\n",
       "      <th>ContractType</th>\n",
       "      <th>MonthlyCharges</th>\n",
       "      <th>Tenure</th>\n",
       "    </tr>\n",
       "  </thead>\n",
       "  <tbody>\n",
       "    <tr>\n",
       "      <th>0</th>\n",
       "      <td>Male</td>\n",
       "      <td>34</td>\n",
       "      <td>Month-to-month</td>\n",
       "      <td>56.95</td>\n",
       "      <td>12</td>\n",
       "    </tr>\n",
       "    <tr>\n",
       "      <th>1</th>\n",
       "      <td>Female</td>\n",
       "      <td>23</td>\n",
       "      <td>One year</td>\n",
       "      <td>18.25</td>\n",
       "      <td>24</td>\n",
       "    </tr>\n",
       "    <tr>\n",
       "      <th>2</th>\n",
       "      <td>Female</td>\n",
       "      <td>45</td>\n",
       "      <td>Two year</td>\n",
       "      <td>89.10</td>\n",
       "      <td>5</td>\n",
       "    </tr>\n",
       "    <tr>\n",
       "      <th>3</th>\n",
       "      <td>Male</td>\n",
       "      <td>31</td>\n",
       "      <td>Month-to-month</td>\n",
       "      <td>29.75</td>\n",
       "      <td>8</td>\n",
       "    </tr>\n",
       "    <tr>\n",
       "      <th>4</th>\n",
       "      <td>Female</td>\n",
       "      <td>29</td>\n",
       "      <td>Two year</td>\n",
       "      <td>65.30</td>\n",
       "      <td>15</td>\n",
       "    </tr>\n",
       "  </tbody>\n",
       "</table>\n",
       "</div>"
      ],
      "text/plain": [
       "   Gender  Age    ContractType  MonthlyCharges  Tenure\n",
       "0    Male   34  Month-to-month           56.95      12\n",
       "1  Female   23        One year           18.25      24\n",
       "2  Female   45        Two year           89.10       5\n",
       "3    Male   31  Month-to-month           29.75       8\n",
       "4  Female   29        Two year           65.30      15"
      ]
     },
     "execution_count": 17,
     "metadata": {},
     "output_type": "execute_result"
    }
   ],
   "source": [
    "import pandas as pd\n",
    "\n",
    "# Sample data\n",
    "data = {\n",
    "    'Gender': ['Male', 'Female', 'Female', 'Male', 'Female'],\n",
    "    'Age': [34, 23, 45, 31, 29],\n",
    "    'ContractType': ['Month-to-month', 'One year', 'Two year', 'Month-to-month', 'Two year'],\n",
    "    'MonthlyCharges': [56.95, 18.25, 89.10, 29.75, 65.30],\n",
    "    'Tenure': [12, 24, 5, 8, 15]\n",
    "}\n",
    "\n",
    "df = pd.DataFrame(data)\n",
    "df\n"
   ]
  },
  {
   "cell_type": "code",
   "execution_count": 16,
   "id": "22149d4c-d5a4-4d68-b28e-2525d9835beb",
   "metadata": {},
   "outputs": [
    {
     "name": "stdout",
     "output_type": "stream",
     "text": [
      "   Age  MonthlyCharges  Tenure  Gender_Male  ContractType_One year  \\\n",
      "0   34           56.95      12            1                      0   \n",
      "1   23           18.25      24            0                      1   \n",
      "2   45           89.10       5            0                      0   \n",
      "3   31           29.75       8            1                      0   \n",
      "4   29           65.30      15            0                      0   \n",
      "\n",
      "   ContractType_Two year  \n",
      "0                      0  \n",
      "1                      0  \n",
      "2                      1  \n",
      "3                      0  \n",
      "4                      1  \n"
     ]
    }
   ],
   "source": [
    "# One-Hot Encoding for Gender and Contract Type\n",
    "df_encoded = pd.get_dummies(df, columns=['Gender', 'ContractType'], drop_first=True)\n",
    "\n",
    "# Display the encoded DataFrame\n",
    "print(df_encoded)\n"
   ]
  },
  {
   "cell_type": "code",
   "execution_count": null,
   "id": "87c7d0f5-1e03-425d-a59b-eb1aa9c141fd",
   "metadata": {},
   "outputs": [],
   "source": []
  }
 ],
 "metadata": {
  "kernelspec": {
   "display_name": "Python 3 (ipykernel)",
   "language": "python",
   "name": "python3"
  },
  "language_info": {
   "codemirror_mode": {
    "name": "ipython",
    "version": 3
   },
   "file_extension": ".py",
   "mimetype": "text/x-python",
   "name": "python",
   "nbconvert_exporter": "python",
   "pygments_lexer": "ipython3",
   "version": "3.10.8"
  }
 },
 "nbformat": 4,
 "nbformat_minor": 5
}
